{
 "cells": [
  {
   "cell_type": "code",
   "execution_count": 1,
   "metadata": {},
   "outputs": [],
   "source": [
    "import numpy as np \n",
    "import pandas as pd \n",
    "import seaborn as sb \n",
    "import matplotlib.pyplot as plt"
   ]
  },
  {
   "cell_type": "code",
   "execution_count": 167,
   "metadata": {},
   "outputs": [],
   "source": [
    "df_train=pd.read_csv('train.csv')"
   ]
  },
  {
   "cell_type": "code",
   "execution_count": 168,
   "metadata": {},
   "outputs": [],
   "source": [
    "df_test=pd.read_csv('test.csv')"
   ]
  },
  {
   "cell_type": "code",
   "execution_count": 169,
   "metadata": {},
   "outputs": [],
   "source": [
    "df_train['LotFrontage'].fillna(value=df_train['LotFrontage'].median(),inplace=True)\n",
    "del df_train['Alley']\n",
    "del df_test['Alley']\n",
    "df_train['MasVnrType'].fillna(value=df_train['MasVnrType'].mode()[0],inplace=True)"
   ]
  },
  {
   "cell_type": "code",
   "execution_count": 170,
   "metadata": {
    "tags": []
   },
   "outputs": [],
   "source": [
    "df_train['MasVnrArea'].fillna(value=df_train['MasVnrArea'].mean(),inplace=True)\n",
    "df_train['BsmtQual'].fillna(value=df_train['BsmtQual'].mode()[0],inplace=True)\n",
    "df_train['BsmtCond'].fillna(value=df_train['BsmtCond'].mode()[0],inplace=True)\n",
    "df_train['BsmtExposure'].fillna(value=df_train['BsmtExposure'].mode()[0],inplace=True)\n",
    "df_train['BsmtFinType1'].fillna(value=df_train['BsmtFinType1'].mode()[0],inplace=True)\n",
    "df_train['BsmtFinType2'].fillna(value=df_train['BsmtFinType2'].mode()[0],inplace=True)\n",
    "df_train['Electrical'].fillna(value=df_train['Electrical'].mode()[0],inplace=True)\n",
    "df_train['FireplaceQu'].fillna(value=df_train['FireplaceQu'].mode()[0],inplace=True)\n",
    "df_train['GarageType'].fillna(value=df_train['GarageType'].mode()[0],inplace=True)\n",
    "df_train['GarageYrBlt'].fillna(value=df_train['GarageYrBlt'].mode()[0],inplace=True)\n",
    "df_train['GarageType'].fillna(value=df_train['GarageType'].mode()[0],inplace=True)\n",
    "df_train['GarageFinish'].fillna(value=df_train['GarageFinish'].mode()[0],inplace=True)\n",
    "df_train['GarageQual'].fillna(value=df_train['GarageQual'].mode()[0],inplace=True)\n",
    "df_train['GarageCond'].fillna(value=df_train['GarageCond'].mode()[0],inplace=True)\n",
    "\n",
    "del df_train['PoolQC']\n",
    "del df_test['PoolQC']\n",
    "del df_train['Fence']\n",
    "del df_test['Fence']\n",
    "del df_train['MiscFeature']\n",
    "del df_test['MiscFeature']\n"
   ]
  },
  {
   "cell_type": "code",
   "execution_count": 171,
   "metadata": {},
   "outputs": [],
   "source": [
    "df_test['LotFrontage'].fillna(value=df_test['LotFrontage'].median(),inplace=True)\n",
    "df_test['Exterior1st'].fillna(value=df_test['Exterior1st'].mode()[0],inplace=True)\n",
    "df_test['Exterior2nd'].fillna(value=df_test['Exterior2nd'].mode()[0],inplace=True)\n",
    "df_test['MasVnrType'].fillna(value=df_test['MasVnrType'].mode()[0],inplace=True)\n",
    "df_test['MasVnrArea'].fillna(value=df_test['MasVnrArea'].mean(),inplace=True)\n",
    "df_test['BsmtQual'].fillna(value=df_test['BsmtQual'].mode()[0],inplace=True)\n",
    "df_test['BsmtCond'].fillna(value=df_test['BsmtCond'].mode()[0],inplace=True)\n",
    "df_test['BsmtExposure'].fillna(value=df_test['BsmtExposure'].mode()[0],inplace=True)\n",
    "df_test['BsmtFinType1'].fillna(value=df_test['BsmtFinType1'].mode()[0],inplace=True)\n",
    "df_test['BsmtFinType2'].fillna(value=df_test['BsmtFinType2'].mode()[0],inplace=True)\n",
    "df_test['BsmtFinSF1'].fillna(value=df_test['BsmtFinSF1'].mean(),inplace=True)\n",
    "df_test['BsmtFinSF2'].fillna(value=df_test['BsmtFinSF2'].mode()[0],inplace=True)\n",
    "df_test['BsmtUnfSF'].fillna(value=df_test['BsmtUnfSF'].mean(),inplace=True)\n",
    "df_test['TotalBsmtSF'].fillna(value=df_test['TotalBsmtSF'].mode()[0],inplace=True)\n",
    "df_test['BsmtFullBath'].fillna(value=df_test['BsmtFullBath'].mode()[0],inplace=True)\n",
    "df_test['BsmtHalfBath'].fillna(value=df_test['BsmtHalfBath'].mode()[0],inplace=True)\n",
    "df_test['KitchenQual'].fillna(value=df_test['KitchenQual'].mode()[0],inplace=True)\n",
    "df_test['FireplaceQu'].fillna(value=df_test['FireplaceQu'].mode()[0],inplace=True)\n",
    "df_test['GarageType'].fillna(value=df_test['GarageType'].mode()[0],inplace=True)\n",
    "df_test['GarageYrBlt'].fillna(value=df_test['GarageYrBlt'].mode()[0],inplace=True)\n",
    "df_test['GarageType'].fillna(value=df_test['GarageType'].mode()[0],inplace=True)\n",
    "df_test['GarageFinish'].fillna(value=df_test['GarageFinish'].mode()[0],inplace=True)\n",
    "df_test['GarageQual'].fillna(value=df_test['GarageQual'].mode()[0],inplace=True)\n",
    "df_test['GarageCond'].fillna(value=df_test['GarageCond'].mode()[0],inplace=True)\n",
    "df_test['GarageCars'].fillna(value=df_test['GarageCars'].mean(),inplace=True)\n",
    "df_test['GarageArea'].fillna(value=df_test['GarageArea'].mean(),inplace=True)\n",
    "df_test['SaleType'].fillna(value=df_test['SaleType'].mode()[0],inplace=True)\n",
    "df_test['MSZoning'].fillna(value=df_test['MSZoning'].mode()[0],inplace=True)\n",
    "\n",
    "\n",
    "\n",
    "del df_train['Utilities']\n",
    "del df_test['Utilities']\n",
    "del df_train['Functional']\n",
    "del df_test['Functional']\n",
    "del df_train['Id']\n",
    "del df_test['Id']"
   ]
  },
  {
   "cell_type": "code",
   "execution_count": 172,
   "metadata": {},
   "outputs": [
    {
     "output_type": "execute_result",
     "data": {
      "text/plain": "'fig, ax = plt.subplots(figsize=(30,30))         \\nsb.heatmap(df_train.corr(), annot=True, linewidths=.5, ax=ax)'"
     },
     "metadata": {},
     "execution_count": 172
    }
   ],
   "source": [
    "'''fig, ax = plt.subplots(figsize=(30,30))         \n",
    "sb.heatmap(df_train.corr(), annot=True, linewidths=.5, ax=ax)'''"
   ]
  },
  {
   "cell_type": "code",
   "execution_count": 173,
   "metadata": {
    "tags": []
   },
   "outputs": [
    {
     "output_type": "stream",
     "name": "stdout",
     "text": "<class 'pandas.core.frame.DataFrame'>\nRangeIndex: 1460 entries, 0 to 1459\nData columns (total 74 columns):\n #   Column         Non-Null Count  Dtype  \n---  ------         --------------  -----  \n 0   MSSubClass     1460 non-null   int64  \n 1   MSZoning       1460 non-null   object \n 2   LotFrontage    1460 non-null   float64\n 3   LotArea        1460 non-null   int64  \n 4   Street         1460 non-null   object \n 5   LotShape       1460 non-null   object \n 6   LandContour    1460 non-null   object \n 7   LotConfig      1460 non-null   object \n 8   LandSlope      1460 non-null   object \n 9   Neighborhood   1460 non-null   object \n 10  Condition1     1460 non-null   object \n 11  Condition2     1460 non-null   object \n 12  BldgType       1460 non-null   object \n 13  HouseStyle     1460 non-null   object \n 14  OverallQual    1460 non-null   int64  \n 15  OverallCond    1460 non-null   int64  \n 16  YearBuilt      1460 non-null   int64  \n 17  YearRemodAdd   1460 non-null   int64  \n 18  RoofStyle      1460 non-null   object \n 19  RoofMatl       1460 non-null   object \n 20  Exterior1st    1460 non-null   object \n 21  Exterior2nd    1460 non-null   object \n 22  MasVnrType     1460 non-null   object \n 23  MasVnrArea     1460 non-null   float64\n 24  ExterQual      1460 non-null   object \n 25  ExterCond      1460 non-null   object \n 26  Foundation     1460 non-null   object \n 27  BsmtQual       1460 non-null   object \n 28  BsmtCond       1460 non-null   object \n 29  BsmtExposure   1460 non-null   object \n 30  BsmtFinType1   1460 non-null   object \n 31  BsmtFinSF1     1460 non-null   int64  \n 32  BsmtFinType2   1460 non-null   object \n 33  BsmtFinSF2     1460 non-null   int64  \n 34  BsmtUnfSF      1460 non-null   int64  \n 35  TotalBsmtSF    1460 non-null   int64  \n 36  Heating        1460 non-null   object \n 37  HeatingQC      1460 non-null   object \n 38  CentralAir     1460 non-null   object \n 39  Electrical     1460 non-null   object \n 40  1stFlrSF       1460 non-null   int64  \n 41  2ndFlrSF       1460 non-null   int64  \n 42  LowQualFinSF   1460 non-null   int64  \n 43  GrLivArea      1460 non-null   int64  \n 44  BsmtFullBath   1460 non-null   int64  \n 45  BsmtHalfBath   1460 non-null   int64  \n 46  FullBath       1460 non-null   int64  \n 47  HalfBath       1460 non-null   int64  \n 48  BedroomAbvGr   1460 non-null   int64  \n 49  KitchenAbvGr   1460 non-null   int64  \n 50  KitchenQual    1460 non-null   object \n 51  TotRmsAbvGrd   1460 non-null   int64  \n 52  Fireplaces     1460 non-null   int64  \n 53  FireplaceQu    1460 non-null   object \n 54  GarageType     1460 non-null   object \n 55  GarageYrBlt    1460 non-null   float64\n 56  GarageFinish   1460 non-null   object \n 57  GarageCars     1460 non-null   int64  \n 58  GarageArea     1460 non-null   int64  \n 59  GarageQual     1460 non-null   object \n 60  GarageCond     1460 non-null   object \n 61  PavedDrive     1460 non-null   object \n 62  WoodDeckSF     1460 non-null   int64  \n 63  OpenPorchSF    1460 non-null   int64  \n 64  EnclosedPorch  1460 non-null   int64  \n 65  3SsnPorch      1460 non-null   int64  \n 66  ScreenPorch    1460 non-null   int64  \n 67  PoolArea       1460 non-null   int64  \n 68  MiscVal        1460 non-null   int64  \n 69  MoSold         1460 non-null   int64  \n 70  YrSold         1460 non-null   int64  \n 71  SaleType       1460 non-null   object \n 72  SaleCondition  1460 non-null   object \n 73  SalePrice      1460 non-null   int64  \ndtypes: float64(3), int64(34), object(37)\nmemory usage: 633.1+ KB\n"
    }
   ],
   "source": [
    "df_train.info()"
   ]
  },
  {
   "cell_type": "code",
   "execution_count": 174,
   "metadata": {
    "tags": []
   },
   "outputs": [
    {
     "output_type": "stream",
     "name": "stdout",
     "text": "<class 'pandas.core.frame.DataFrame'>\nRangeIndex: 1459 entries, 0 to 1458\nData columns (total 73 columns):\n #   Column         Non-Null Count  Dtype  \n---  ------         --------------  -----  \n 0   MSSubClass     1459 non-null   int64  \n 1   MSZoning       1459 non-null   object \n 2   LotFrontage    1459 non-null   float64\n 3   LotArea        1459 non-null   int64  \n 4   Street         1459 non-null   object \n 5   LotShape       1459 non-null   object \n 6   LandContour    1459 non-null   object \n 7   LotConfig      1459 non-null   object \n 8   LandSlope      1459 non-null   object \n 9   Neighborhood   1459 non-null   object \n 10  Condition1     1459 non-null   object \n 11  Condition2     1459 non-null   object \n 12  BldgType       1459 non-null   object \n 13  HouseStyle     1459 non-null   object \n 14  OverallQual    1459 non-null   int64  \n 15  OverallCond    1459 non-null   int64  \n 16  YearBuilt      1459 non-null   int64  \n 17  YearRemodAdd   1459 non-null   int64  \n 18  RoofStyle      1459 non-null   object \n 19  RoofMatl       1459 non-null   object \n 20  Exterior1st    1459 non-null   object \n 21  Exterior2nd    1459 non-null   object \n 22  MasVnrType     1459 non-null   object \n 23  MasVnrArea     1459 non-null   float64\n 24  ExterQual      1459 non-null   object \n 25  ExterCond      1459 non-null   object \n 26  Foundation     1459 non-null   object \n 27  BsmtQual       1459 non-null   object \n 28  BsmtCond       1459 non-null   object \n 29  BsmtExposure   1459 non-null   object \n 30  BsmtFinType1   1459 non-null   object \n 31  BsmtFinSF1     1459 non-null   float64\n 32  BsmtFinType2   1459 non-null   object \n 33  BsmtFinSF2     1459 non-null   float64\n 34  BsmtUnfSF      1459 non-null   float64\n 35  TotalBsmtSF    1459 non-null   float64\n 36  Heating        1459 non-null   object \n 37  HeatingQC      1459 non-null   object \n 38  CentralAir     1459 non-null   object \n 39  Electrical     1459 non-null   object \n 40  1stFlrSF       1459 non-null   int64  \n 41  2ndFlrSF       1459 non-null   int64  \n 42  LowQualFinSF   1459 non-null   int64  \n 43  GrLivArea      1459 non-null   int64  \n 44  BsmtFullBath   1459 non-null   float64\n 45  BsmtHalfBath   1459 non-null   float64\n 46  FullBath       1459 non-null   int64  \n 47  HalfBath       1459 non-null   int64  \n 48  BedroomAbvGr   1459 non-null   int64  \n 49  KitchenAbvGr   1459 non-null   int64  \n 50  KitchenQual    1459 non-null   object \n 51  TotRmsAbvGrd   1459 non-null   int64  \n 52  Fireplaces     1459 non-null   int64  \n 53  FireplaceQu    1459 non-null   object \n 54  GarageType     1459 non-null   object \n 55  GarageYrBlt    1459 non-null   float64\n 56  GarageFinish   1459 non-null   object \n 57  GarageCars     1459 non-null   float64\n 58  GarageArea     1459 non-null   float64\n 59  GarageQual     1459 non-null   object \n 60  GarageCond     1459 non-null   object \n 61  PavedDrive     1459 non-null   object \n 62  WoodDeckSF     1459 non-null   int64  \n 63  OpenPorchSF    1459 non-null   int64  \n 64  EnclosedPorch  1459 non-null   int64  \n 65  3SsnPorch      1459 non-null   int64  \n 66  ScreenPorch    1459 non-null   int64  \n 67  PoolArea       1459 non-null   int64  \n 68  MiscVal        1459 non-null   int64  \n 69  MoSold         1459 non-null   int64  \n 70  YrSold         1459 non-null   int64  \n 71  SaleType       1459 non-null   object \n 72  SaleCondition  1459 non-null   object \ndtypes: float64(11), int64(25), object(37)\nmemory usage: 621.3+ KB\n"
    }
   ],
   "source": [
    "df_test.info()"
   ]
  },
  {
   "cell_type": "code",
   "execution_count": 175,
   "metadata": {},
   "outputs": [],
   "source": [
    "df_train = pd.get_dummies(df_train,columns=['MSZoning','Street','LotShape','LandContour','LotConfig','LandSlope','Neighborhood','Condition1','BldgType','HouseStyle','RoofStyle', 'RoofMatl','Exterior1st','Exterior2nd', 'MasVnrType','ExterQual','ExterCond','Foundation', 'BsmtQual', 'BsmtCond', 'BsmtExposure', 'BsmtFinType1', 'BsmtFinType2', 'Heating','HeatingQC','CentralAir', 'Electrical','KitchenQual', 'FireplaceQu', 'GarageType', 'GarageFinish', 'GarageQual', 'GarageCond','PavedDrive','SaleType','SaleCondition'])"
   ]
  },
  {
   "cell_type": "code",
   "execution_count": 176,
   "metadata": {},
   "outputs": [],
   "source": [
    "df_test = pd.get_dummies(df_test,columns=['MSZoning','Street','LotShape','LandContour','LotConfig','LandSlope','Neighborhood','Condition1','BldgType','HouseStyle','RoofStyle', 'RoofMatl','Exterior1st','Exterior2nd', 'MasVnrType','ExterQual','ExterCond','Foundation', 'BsmtQual', 'BsmtCond', 'BsmtExposure', 'BsmtFinType1', 'BsmtFinType2', 'Heating','HeatingQC','CentralAir', 'Electrical','KitchenQual', 'FireplaceQu', 'GarageType', 'GarageFinish', 'GarageQual', 'GarageCond','PavedDrive','SaleType','SaleCondition'])\n",
    "df_test = pd.get_dummies(df_test,columns=['Condition2'])\n",
    "df_train = pd.get_dummies(df_train,columns=['Condition2'])"
   ]
  },
  {
   "cell_type": "code",
   "execution_count": 177,
   "metadata": {},
   "outputs": [
    {
     "output_type": "execute_result",
     "data": {
      "text/plain": "(1460, 267)"
     },
     "metadata": {},
     "execution_count": 177
    }
   ],
   "source": [
    "df_train.shape"
   ]
  },
  {
   "cell_type": "code",
   "execution_count": 178,
   "metadata": {},
   "outputs": [
    {
     "output_type": "execute_result",
     "data": {
      "text/plain": "(1459, 251)"
     },
     "metadata": {},
     "execution_count": 178
    }
   ],
   "source": [
    "df_test.shape"
   ]
  },
  {
   "cell_type": "code",
   "execution_count": 179,
   "metadata": {},
   "outputs": [
    {
     "output_type": "execute_result",
     "data": {
      "text/plain": "array(['MSSubClass', 'LotFrontage', 'LotArea', 'OverallQual',\n       'OverallCond', 'YearBuilt', 'YearRemodAdd', 'MasVnrArea',\n       'BsmtFinSF1', 'BsmtFinSF2', 'BsmtUnfSF', 'TotalBsmtSF', '1stFlrSF',\n       '2ndFlrSF', 'LowQualFinSF', 'GrLivArea', 'BsmtFullBath',\n       'BsmtHalfBath', 'FullBath', 'HalfBath', 'BedroomAbvGr',\n       'KitchenAbvGr', 'TotRmsAbvGrd', 'Fireplaces', 'GarageYrBlt',\n       'GarageCars', 'GarageArea', 'WoodDeckSF', 'OpenPorchSF',\n       'EnclosedPorch', '3SsnPorch', 'ScreenPorch', 'PoolArea', 'MiscVal',\n       'MoSold', 'YrSold', 'SalePrice', 'MSZoning_C (all)', 'MSZoning_FV',\n       'MSZoning_RH', 'MSZoning_RL', 'MSZoning_RM', 'Street_Grvl',\n       'Street_Pave', 'LotShape_IR1', 'LotShape_IR2', 'LotShape_IR3',\n       'LotShape_Reg', 'LandContour_Bnk', 'LandContour_HLS',\n       'LandContour_Low', 'LandContour_Lvl', 'LotConfig_Corner',\n       'LotConfig_CulDSac', 'LotConfig_FR2', 'LotConfig_FR3',\n       'LotConfig_Inside', 'LandSlope_Gtl', 'LandSlope_Mod',\n       'LandSlope_Sev', 'Neighborhood_Blmngtn', 'Neighborhood_Blueste',\n       'Neighborhood_BrDale', 'Neighborhood_BrkSide',\n       'Neighborhood_ClearCr', 'Neighborhood_CollgCr',\n       'Neighborhood_Crawfor', 'Neighborhood_Edwards',\n       'Neighborhood_Gilbert', 'Neighborhood_IDOTRR',\n       'Neighborhood_MeadowV', 'Neighborhood_Mitchel',\n       'Neighborhood_NAmes', 'Neighborhood_NPkVill',\n       'Neighborhood_NWAmes', 'Neighborhood_NoRidge',\n       'Neighborhood_NridgHt', 'Neighborhood_OldTown',\n       'Neighborhood_SWISU', 'Neighborhood_Sawyer',\n       'Neighborhood_SawyerW', 'Neighborhood_Somerst',\n       'Neighborhood_StoneBr', 'Neighborhood_Timber',\n       'Neighborhood_Veenker', 'Condition1_Artery', 'Condition1_Feedr',\n       'Condition1_Norm', 'Condition1_PosA', 'Condition1_PosN',\n       'Condition1_RRAe', 'Condition1_RRAn', 'Condition1_RRNe',\n       'Condition1_RRNn', 'BldgType_1Fam', 'BldgType_2fmCon',\n       'BldgType_Duplex', 'BldgType_Twnhs', 'BldgType_TwnhsE',\n       'HouseStyle_1.5Fin', 'HouseStyle_1.5Unf', 'HouseStyle_1Story',\n       'HouseStyle_2.5Fin', 'HouseStyle_2.5Unf', 'HouseStyle_2Story',\n       'HouseStyle_SFoyer', 'HouseStyle_SLvl', 'RoofStyle_Flat',\n       'RoofStyle_Gable', 'RoofStyle_Gambrel', 'RoofStyle_Hip',\n       'RoofStyle_Mansard', 'RoofStyle_Shed', 'RoofMatl_ClyTile',\n       'RoofMatl_CompShg', 'RoofMatl_Membran', 'RoofMatl_Metal',\n       'RoofMatl_Roll', 'RoofMatl_Tar&Grv', 'RoofMatl_WdShake',\n       'RoofMatl_WdShngl', 'Exterior1st_AsbShng', 'Exterior1st_AsphShn',\n       'Exterior1st_BrkComm', 'Exterior1st_BrkFace', 'Exterior1st_CBlock',\n       'Exterior1st_CemntBd', 'Exterior1st_HdBoard',\n       'Exterior1st_ImStucc', 'Exterior1st_MetalSd',\n       'Exterior1st_Plywood', 'Exterior1st_Stone', 'Exterior1st_Stucco',\n       'Exterior1st_VinylSd', 'Exterior1st_Wd Sdng',\n       'Exterior1st_WdShing', 'Exterior2nd_AsbShng',\n       'Exterior2nd_AsphShn', 'Exterior2nd_Brk Cmn',\n       'Exterior2nd_BrkFace', 'Exterior2nd_CBlock', 'Exterior2nd_CmentBd',\n       'Exterior2nd_HdBoard', 'Exterior2nd_ImStucc',\n       'Exterior2nd_MetalSd', 'Exterior2nd_Other', 'Exterior2nd_Plywood',\n       'Exterior2nd_Stone', 'Exterior2nd_Stucco', 'Exterior2nd_VinylSd',\n       'Exterior2nd_Wd Sdng', 'Exterior2nd_Wd Shng', 'MasVnrType_BrkCmn',\n       'MasVnrType_BrkFace', 'MasVnrType_None', 'MasVnrType_Stone',\n       'ExterQual_Ex', 'ExterQual_Fa', 'ExterQual_Gd', 'ExterQual_TA',\n       'ExterCond_Ex', 'ExterCond_Fa', 'ExterCond_Gd', 'ExterCond_Po',\n       'ExterCond_TA', 'Foundation_BrkTil', 'Foundation_CBlock',\n       'Foundation_PConc', 'Foundation_Slab', 'Foundation_Stone',\n       'Foundation_Wood', 'BsmtQual_Ex', 'BsmtQual_Fa', 'BsmtQual_Gd',\n       'BsmtQual_TA', 'BsmtCond_Fa', 'BsmtCond_Gd', 'BsmtCond_Po',\n       'BsmtCond_TA', 'BsmtExposure_Av', 'BsmtExposure_Gd',\n       'BsmtExposure_Mn', 'BsmtExposure_No', 'BsmtFinType1_ALQ',\n       'BsmtFinType1_BLQ', 'BsmtFinType1_GLQ', 'BsmtFinType1_LwQ',\n       'BsmtFinType1_Rec', 'BsmtFinType1_Unf', 'BsmtFinType2_ALQ',\n       'BsmtFinType2_BLQ', 'BsmtFinType2_GLQ', 'BsmtFinType2_LwQ',\n       'BsmtFinType2_Rec', 'BsmtFinType2_Unf', 'Heating_Floor',\n       'Heating_GasA', 'Heating_GasW', 'Heating_Grav', 'Heating_OthW',\n       'Heating_Wall', 'HeatingQC_Ex', 'HeatingQC_Fa', 'HeatingQC_Gd',\n       'HeatingQC_Po', 'HeatingQC_TA', 'CentralAir_N', 'CentralAir_Y',\n       'Electrical_FuseA', 'Electrical_FuseF', 'Electrical_FuseP',\n       'Electrical_Mix', 'Electrical_SBrkr', 'KitchenQual_Ex',\n       'KitchenQual_Fa', 'KitchenQual_Gd', 'KitchenQual_TA',\n       'FireplaceQu_Ex', 'FireplaceQu_Fa', 'FireplaceQu_Gd',\n       'FireplaceQu_Po', 'FireplaceQu_TA', 'GarageType_2Types',\n       'GarageType_Attchd', 'GarageType_Basment', 'GarageType_BuiltIn',\n       'GarageType_CarPort', 'GarageType_Detchd', 'GarageFinish_Fin',\n       'GarageFinish_RFn', 'GarageFinish_Unf', 'GarageQual_Ex',\n       'GarageQual_Fa', 'GarageQual_Gd', 'GarageQual_Po', 'GarageQual_TA',\n       'GarageCond_Ex', 'GarageCond_Fa', 'GarageCond_Gd', 'GarageCond_Po',\n       'GarageCond_TA', 'PavedDrive_N', 'PavedDrive_P', 'PavedDrive_Y',\n       'SaleType_COD', 'SaleType_CWD', 'SaleType_Con', 'SaleType_ConLD',\n       'SaleType_ConLI', 'SaleType_ConLw', 'SaleType_New', 'SaleType_Oth',\n       'SaleType_WD', 'SaleCondition_Abnorml', 'SaleCondition_AdjLand',\n       'SaleCondition_Alloca', 'SaleCondition_Family',\n       'SaleCondition_Normal', 'SaleCondition_Partial',\n       'Condition2_Artery', 'Condition2_Feedr', 'Condition2_Norm',\n       'Condition2_PosA', 'Condition2_PosN', 'Condition2_RRAe',\n       'Condition2_RRAn', 'Condition2_RRNn'], dtype=object)"
     },
     "metadata": {},
     "execution_count": 179
    }
   ],
   "source": [
    "df_train.columns.values"
   ]
  },
  {
   "cell_type": "code",
   "execution_count": 180,
   "metadata": {},
   "outputs": [
    {
     "output_type": "execute_result",
     "data": {
      "text/plain": "array(['MSSubClass', 'LotFrontage', 'LotArea', 'OverallQual',\n       'OverallCond', 'YearBuilt', 'YearRemodAdd', 'MasVnrArea',\n       'BsmtFinSF1', 'BsmtFinSF2', 'BsmtUnfSF', 'TotalBsmtSF', '1stFlrSF',\n       '2ndFlrSF', 'LowQualFinSF', 'GrLivArea', 'BsmtFullBath',\n       'BsmtHalfBath', 'FullBath', 'HalfBath', 'BedroomAbvGr',\n       'KitchenAbvGr', 'TotRmsAbvGrd', 'Fireplaces', 'GarageYrBlt',\n       'GarageCars', 'GarageArea', 'WoodDeckSF', 'OpenPorchSF',\n       'EnclosedPorch', '3SsnPorch', 'ScreenPorch', 'PoolArea', 'MiscVal',\n       'MoSold', 'YrSold', 'MSZoning_C (all)', 'MSZoning_FV',\n       'MSZoning_RH', 'MSZoning_RL', 'MSZoning_RM', 'Street_Grvl',\n       'Street_Pave', 'LotShape_IR1', 'LotShape_IR2', 'LotShape_IR3',\n       'LotShape_Reg', 'LandContour_Bnk', 'LandContour_HLS',\n       'LandContour_Low', 'LandContour_Lvl', 'LotConfig_Corner',\n       'LotConfig_CulDSac', 'LotConfig_FR2', 'LotConfig_FR3',\n       'LotConfig_Inside', 'LandSlope_Gtl', 'LandSlope_Mod',\n       'LandSlope_Sev', 'Neighborhood_Blmngtn', 'Neighborhood_Blueste',\n       'Neighborhood_BrDale', 'Neighborhood_BrkSide',\n       'Neighborhood_ClearCr', 'Neighborhood_CollgCr',\n       'Neighborhood_Crawfor', 'Neighborhood_Edwards',\n       'Neighborhood_Gilbert', 'Neighborhood_IDOTRR',\n       'Neighborhood_MeadowV', 'Neighborhood_Mitchel',\n       'Neighborhood_NAmes', 'Neighborhood_NPkVill',\n       'Neighborhood_NWAmes', 'Neighborhood_NoRidge',\n       'Neighborhood_NridgHt', 'Neighborhood_OldTown',\n       'Neighborhood_SWISU', 'Neighborhood_Sawyer',\n       'Neighborhood_SawyerW', 'Neighborhood_Somerst',\n       'Neighborhood_StoneBr', 'Neighborhood_Timber',\n       'Neighborhood_Veenker', 'Condition1_Artery', 'Condition1_Feedr',\n       'Condition1_Norm', 'Condition1_PosA', 'Condition1_PosN',\n       'Condition1_RRAe', 'Condition1_RRAn', 'Condition1_RRNe',\n       'Condition1_RRNn', 'BldgType_1Fam', 'BldgType_2fmCon',\n       'BldgType_Duplex', 'BldgType_Twnhs', 'BldgType_TwnhsE',\n       'HouseStyle_1.5Fin', 'HouseStyle_1.5Unf', 'HouseStyle_1Story',\n       'HouseStyle_2.5Unf', 'HouseStyle_2Story', 'HouseStyle_SFoyer',\n       'HouseStyle_SLvl', 'RoofStyle_Flat', 'RoofStyle_Gable',\n       'RoofStyle_Gambrel', 'RoofStyle_Hip', 'RoofStyle_Mansard',\n       'RoofStyle_Shed', 'RoofMatl_CompShg', 'RoofMatl_Tar&Grv',\n       'RoofMatl_WdShake', 'RoofMatl_WdShngl', 'Exterior1st_AsbShng',\n       'Exterior1st_AsphShn', 'Exterior1st_BrkComm',\n       'Exterior1st_BrkFace', 'Exterior1st_CBlock', 'Exterior1st_CemntBd',\n       'Exterior1st_HdBoard', 'Exterior1st_MetalSd',\n       'Exterior1st_Plywood', 'Exterior1st_Stucco', 'Exterior1st_VinylSd',\n       'Exterior1st_Wd Sdng', 'Exterior1st_WdShing',\n       'Exterior2nd_AsbShng', 'Exterior2nd_AsphShn',\n       'Exterior2nd_Brk Cmn', 'Exterior2nd_BrkFace', 'Exterior2nd_CBlock',\n       'Exterior2nd_CmentBd', 'Exterior2nd_HdBoard',\n       'Exterior2nd_ImStucc', 'Exterior2nd_MetalSd',\n       'Exterior2nd_Plywood', 'Exterior2nd_Stone', 'Exterior2nd_Stucco',\n       'Exterior2nd_VinylSd', 'Exterior2nd_Wd Sdng',\n       'Exterior2nd_Wd Shng', 'MasVnrType_BrkCmn', 'MasVnrType_BrkFace',\n       'MasVnrType_None', 'MasVnrType_Stone', 'ExterQual_Ex',\n       'ExterQual_Fa', 'ExterQual_Gd', 'ExterQual_TA', 'ExterCond_Ex',\n       'ExterCond_Fa', 'ExterCond_Gd', 'ExterCond_Po', 'ExterCond_TA',\n       'Foundation_BrkTil', 'Foundation_CBlock', 'Foundation_PConc',\n       'Foundation_Slab', 'Foundation_Stone', 'Foundation_Wood',\n       'BsmtQual_Ex', 'BsmtQual_Fa', 'BsmtQual_Gd', 'BsmtQual_TA',\n       'BsmtCond_Fa', 'BsmtCond_Gd', 'BsmtCond_Po', 'BsmtCond_TA',\n       'BsmtExposure_Av', 'BsmtExposure_Gd', 'BsmtExposure_Mn',\n       'BsmtExposure_No', 'BsmtFinType1_ALQ', 'BsmtFinType1_BLQ',\n       'BsmtFinType1_GLQ', 'BsmtFinType1_LwQ', 'BsmtFinType1_Rec',\n       'BsmtFinType1_Unf', 'BsmtFinType2_ALQ', 'BsmtFinType2_BLQ',\n       'BsmtFinType2_GLQ', 'BsmtFinType2_LwQ', 'BsmtFinType2_Rec',\n       'BsmtFinType2_Unf', 'Heating_GasA', 'Heating_GasW', 'Heating_Grav',\n       'Heating_Wall', 'HeatingQC_Ex', 'HeatingQC_Fa', 'HeatingQC_Gd',\n       'HeatingQC_Po', 'HeatingQC_TA', 'CentralAir_N', 'CentralAir_Y',\n       'Electrical_FuseA', 'Electrical_FuseF', 'Electrical_FuseP',\n       'Electrical_SBrkr', 'KitchenQual_Ex', 'KitchenQual_Fa',\n       'KitchenQual_Gd', 'KitchenQual_TA', 'FireplaceQu_Ex',\n       'FireplaceQu_Fa', 'FireplaceQu_Gd', 'FireplaceQu_Po',\n       'FireplaceQu_TA', 'GarageType_2Types', 'GarageType_Attchd',\n       'GarageType_Basment', 'GarageType_BuiltIn', 'GarageType_CarPort',\n       'GarageType_Detchd', 'GarageFinish_Fin', 'GarageFinish_RFn',\n       'GarageFinish_Unf', 'GarageQual_Fa', 'GarageQual_Gd',\n       'GarageQual_Po', 'GarageQual_TA', 'GarageCond_Ex', 'GarageCond_Fa',\n       'GarageCond_Gd', 'GarageCond_Po', 'GarageCond_TA', 'PavedDrive_N',\n       'PavedDrive_P', 'PavedDrive_Y', 'SaleType_COD', 'SaleType_CWD',\n       'SaleType_Con', 'SaleType_ConLD', 'SaleType_ConLI',\n       'SaleType_ConLw', 'SaleType_New', 'SaleType_Oth', 'SaleType_WD',\n       'SaleCondition_Abnorml', 'SaleCondition_AdjLand',\n       'SaleCondition_Alloca', 'SaleCondition_Family',\n       'SaleCondition_Normal', 'SaleCondition_Partial',\n       'Condition2_Artery', 'Condition2_Feedr', 'Condition2_Norm',\n       'Condition2_PosA', 'Condition2_PosN'], dtype=object)"
     },
     "metadata": {},
     "execution_count": 180
    }
   ],
   "source": [
    "df_test.columns.values"
   ]
  },
  {
   "cell_type": "code",
   "execution_count": 181,
   "metadata": {
    "tags": []
   },
   "outputs": [
    {
     "output_type": "execute_result",
     "data": {
      "text/plain": "{'Condition2_RRAe',\n 'Condition2_RRAn',\n 'Condition2_RRNn',\n 'Electrical_Mix',\n 'Exterior1st_ImStucc',\n 'Exterior1st_Stone',\n 'Exterior2nd_Other',\n 'GarageQual_Ex',\n 'Heating_Floor',\n 'Heating_OthW',\n 'HouseStyle_2.5Fin',\n 'RoofMatl_ClyTile',\n 'RoofMatl_Membran',\n 'RoofMatl_Metal',\n 'RoofMatl_Roll',\n 'SalePrice'}"
     },
     "metadata": {},
     "execution_count": 181
    }
   ],
   "source": [
    "set(df_train.columns.values)-(set(df_test.columns.values).intersection(set(df_train.columns.values)))"
   ]
  },
  {
   "cell_type": "code",
   "execution_count": 182,
   "metadata": {},
   "outputs": [],
   "source": [
    "df_test['Condition2_RRAe']=0"
   ]
  },
  {
   "cell_type": "code",
   "execution_count": 183,
   "metadata": {},
   "outputs": [],
   "source": [
    "df_test['Condition2_RRAn']=0\n",
    "df_test['Condition2_RRNn']=0\n",
    "df_test['Electrical_Mix']=0\n",
    "df_test['Exterior1st_ImStucc']=0\n",
    "df_test['Exterior1st_Stone']=0\n",
    "df_test['Exterior2nd_Other']=0\n",
    "df_test['GarageQual_Ex']=0\n",
    "df_test['Heating_Floor']=0\n",
    "df_test['Heating_OthW']=0\n",
    "df_test['HouseStyle_2.5Fin']=0\n",
    "df_test['RoofMatl_ClyTile']=0\n",
    "df_test['RoofMatl_Membran']=0\n",
    "df_test['RoofMatl_Metal']=0\n",
    "df_test['RoofMatl_Roll']=0"
   ]
  },
  {
   "cell_type": "code",
   "execution_count": 184,
   "metadata": {},
   "outputs": [],
   "source": [
    "x_train=df_train.loc[:,df_train.columns!='SalePrice']\n",
    "y_train=df_train['SalePrice']\n",
    "x_test=df_test\n",
    "x_test1=x_test"
   ]
  },
  {
   "cell_type": "markdown",
   "metadata": {},
   "source": [
    "Using Random Forest Classifier"
   ]
  },
  {
   "cell_type": "code",
   "execution_count": 127,
   "metadata": {},
   "outputs": [],
   "source": [
    "from sklearn.ensemble import RandomForestRegressor"
   ]
  },
  {
   "cell_type": "code",
   "execution_count": 128,
   "metadata": {},
   "outputs": [],
   "source": [
    "ran=RandomForestRegressor()"
   ]
  },
  {
   "cell_type": "code",
   "execution_count": 129,
   "metadata": {},
   "outputs": [
    {
     "output_type": "execute_result",
     "data": {
      "text/plain": "RandomForestRegressor()"
     },
     "metadata": {},
     "execution_count": 129
    }
   ],
   "source": [
    "ran.fit(x_train,y_train)"
   ]
  },
  {
   "cell_type": "code",
   "execution_count": 130,
   "metadata": {},
   "outputs": [],
   "source": [
    "y_pred_RandomForest = ran.predict(x_test)"
   ]
  },
  {
   "cell_type": "code",
   "execution_count": 131,
   "metadata": {},
   "outputs": [],
   "source": [
    "df_test['SalePrice_RandomForest']=y_pred_RandomForest"
   ]
  },
  {
   "cell_type": "code",
   "execution_count": 132,
   "metadata": {},
   "outputs": [
    {
     "output_type": "execute_result",
     "data": {
      "text/plain": "   MSSubClass  LotFrontage  LotArea  OverallQual  OverallCond  YearBuilt  \\\n0          20         80.0    11622            5            6       1961   \n1          20         81.0    14267            6            6       1958   \n2          60         74.0    13830            5            5       1997   \n3          60         78.0     9978            6            6       1998   \n4         120         43.0     5005            8            5       1992   \n\n   YearRemodAdd  MasVnrArea  BsmtFinSF1  BsmtFinSF2  ...  Exterior2nd_Other  \\\n0          1961         0.0       468.0       144.0  ...                  0   \n1          1958       108.0       923.0         0.0  ...                  0   \n2          1998         0.0       791.0         0.0  ...                  0   \n3          1998        20.0       602.0         0.0  ...                  0   \n4          1992         0.0       263.0         0.0  ...                  0   \n\n   GarageQual_Ex  Heating_Floor  Heating_OthW  HouseStyle_2.5Fin  \\\n0              0              0             0                  0   \n1              0              0             0                  0   \n2              0              0             0                  0   \n3              0              0             0                  0   \n4              0              0             0                  0   \n\n   RoofMatl_ClyTile  RoofMatl_Membran  RoofMatl_Metal  RoofMatl_Roll  \\\n0                 0                 0               0              0   \n1                 0                 0               0              0   \n2                 0                 0               0              0   \n3                 0                 0               0              0   \n4                 0                 0               0              0   \n\n   SalePrice_RandomForest  \n0               124560.08  \n1               155506.00  \n2               174288.35  \n3               177814.39  \n4               196324.69  \n\n[5 rows x 267 columns]",
      "text/html": "<div>\n<style scoped>\n    .dataframe tbody tr th:only-of-type {\n        vertical-align: middle;\n    }\n\n    .dataframe tbody tr th {\n        vertical-align: top;\n    }\n\n    .dataframe thead th {\n        text-align: right;\n    }\n</style>\n<table border=\"1\" class=\"dataframe\">\n  <thead>\n    <tr style=\"text-align: right;\">\n      <th></th>\n      <th>MSSubClass</th>\n      <th>LotFrontage</th>\n      <th>LotArea</th>\n      <th>OverallQual</th>\n      <th>OverallCond</th>\n      <th>YearBuilt</th>\n      <th>YearRemodAdd</th>\n      <th>MasVnrArea</th>\n      <th>BsmtFinSF1</th>\n      <th>BsmtFinSF2</th>\n      <th>...</th>\n      <th>Exterior2nd_Other</th>\n      <th>GarageQual_Ex</th>\n      <th>Heating_Floor</th>\n      <th>Heating_OthW</th>\n      <th>HouseStyle_2.5Fin</th>\n      <th>RoofMatl_ClyTile</th>\n      <th>RoofMatl_Membran</th>\n      <th>RoofMatl_Metal</th>\n      <th>RoofMatl_Roll</th>\n      <th>SalePrice_RandomForest</th>\n    </tr>\n  </thead>\n  <tbody>\n    <tr>\n      <th>0</th>\n      <td>20</td>\n      <td>80.0</td>\n      <td>11622</td>\n      <td>5</td>\n      <td>6</td>\n      <td>1961</td>\n      <td>1961</td>\n      <td>0.0</td>\n      <td>468.0</td>\n      <td>144.0</td>\n      <td>...</td>\n      <td>0</td>\n      <td>0</td>\n      <td>0</td>\n      <td>0</td>\n      <td>0</td>\n      <td>0</td>\n      <td>0</td>\n      <td>0</td>\n      <td>0</td>\n      <td>124560.08</td>\n    </tr>\n    <tr>\n      <th>1</th>\n      <td>20</td>\n      <td>81.0</td>\n      <td>14267</td>\n      <td>6</td>\n      <td>6</td>\n      <td>1958</td>\n      <td>1958</td>\n      <td>108.0</td>\n      <td>923.0</td>\n      <td>0.0</td>\n      <td>...</td>\n      <td>0</td>\n      <td>0</td>\n      <td>0</td>\n      <td>0</td>\n      <td>0</td>\n      <td>0</td>\n      <td>0</td>\n      <td>0</td>\n      <td>0</td>\n      <td>155506.00</td>\n    </tr>\n    <tr>\n      <th>2</th>\n      <td>60</td>\n      <td>74.0</td>\n      <td>13830</td>\n      <td>5</td>\n      <td>5</td>\n      <td>1997</td>\n      <td>1998</td>\n      <td>0.0</td>\n      <td>791.0</td>\n      <td>0.0</td>\n      <td>...</td>\n      <td>0</td>\n      <td>0</td>\n      <td>0</td>\n      <td>0</td>\n      <td>0</td>\n      <td>0</td>\n      <td>0</td>\n      <td>0</td>\n      <td>0</td>\n      <td>174288.35</td>\n    </tr>\n    <tr>\n      <th>3</th>\n      <td>60</td>\n      <td>78.0</td>\n      <td>9978</td>\n      <td>6</td>\n      <td>6</td>\n      <td>1998</td>\n      <td>1998</td>\n      <td>20.0</td>\n      <td>602.0</td>\n      <td>0.0</td>\n      <td>...</td>\n      <td>0</td>\n      <td>0</td>\n      <td>0</td>\n      <td>0</td>\n      <td>0</td>\n      <td>0</td>\n      <td>0</td>\n      <td>0</td>\n      <td>0</td>\n      <td>177814.39</td>\n    </tr>\n    <tr>\n      <th>4</th>\n      <td>120</td>\n      <td>43.0</td>\n      <td>5005</td>\n      <td>8</td>\n      <td>5</td>\n      <td>1992</td>\n      <td>1992</td>\n      <td>0.0</td>\n      <td>263.0</td>\n      <td>0.0</td>\n      <td>...</td>\n      <td>0</td>\n      <td>0</td>\n      <td>0</td>\n      <td>0</td>\n      <td>0</td>\n      <td>0</td>\n      <td>0</td>\n      <td>0</td>\n      <td>0</td>\n      <td>196324.69</td>\n    </tr>\n  </tbody>\n</table>\n<p>5 rows × 267 columns</p>\n</div>"
     },
     "metadata": {},
     "execution_count": 132
    }
   ],
   "source": [
    "df_test.head()"
   ]
  },
  {
   "cell_type": "markdown",
   "metadata": {},
   "source": [
    "Using Gradient Boost"
   ]
  },
  {
   "cell_type": "code",
   "execution_count": 156,
   "metadata": {},
   "outputs": [],
   "source": [
    "from sklearn.ensemble import GradientBoostingRegressor"
   ]
  },
  {
   "cell_type": "code",
   "execution_count": 157,
   "metadata": {},
   "outputs": [],
   "source": [
    "gra=GradientBoostingRegressor()"
   ]
  },
  {
   "cell_type": "code",
   "execution_count": 158,
   "metadata": {},
   "outputs": [
    {
     "output_type": "execute_result",
     "data": {
      "text/plain": "GradientBoostingRegressor()"
     },
     "metadata": {},
     "execution_count": 158
    }
   ],
   "source": [
    "gra.fit(x_train,y_train)"
   ]
  },
  {
   "cell_type": "code",
   "execution_count": 159,
   "metadata": {},
   "outputs": [
    {
     "output_type": "execute_result",
     "data": {
      "text/plain": "(1459, 266)"
     },
     "metadata": {},
     "execution_count": 159
    }
   ],
   "source": [
    "x_test1.shape"
   ]
  },
  {
   "cell_type": "code",
   "execution_count": 160,
   "metadata": {},
   "outputs": [],
   "source": [
    "y_pred_Gradient=gra.predict(x_test)"
   ]
  },
  {
   "cell_type": "code",
   "execution_count": 163,
   "metadata": {},
   "outputs": [],
   "source": [
    "df_test['SalePrice_Gradient']=y_pred_Gradient"
   ]
  },
  {
   "cell_type": "code",
   "execution_count": 164,
   "metadata": {},
   "outputs": [
    {
     "output_type": "execute_result",
     "data": {
      "text/plain": "   MSSubClass  LotFrontage  LotArea  OverallQual  OverallCond  YearBuilt  \\\n0          20         80.0    11622            5            6       1961   \n1          20         81.0    14267            6            6       1958   \n2          60         74.0    13830            5            5       1997   \n3          60         78.0     9978            6            6       1998   \n4         120         43.0     5005            8            5       1992   \n\n   YearRemodAdd  MasVnrArea  BsmtFinSF1  BsmtFinSF2  ...  GarageQual_Ex  \\\n0          1961         0.0       468.0       144.0  ...              0   \n1          1958       108.0       923.0         0.0  ...              0   \n2          1998         0.0       791.0         0.0  ...              0   \n3          1998        20.0       602.0         0.0  ...              0   \n4          1992         0.0       263.0         0.0  ...              0   \n\n   Heating_Floor  Heating_OthW  HouseStyle_2.5Fin  RoofMatl_ClyTile  \\\n0              0             0                  0                 0   \n1              0             0                  0                 0   \n2              0             0                  0                 0   \n3              0             0                  0                 0   \n4              0             0                  0                 0   \n\n   RoofMatl_Membran  RoofMatl_Metal  RoofMatl_Roll  SalePricePredicted  \\\n0                 0               0              0       127497.545577   \n1                 0               0              0       161637.178377   \n2                 0               0              0       167607.516930   \n3                 0               0              0       173198.474757   \n4                 0               0              0       192411.766848   \n\n   SalePrice_Gradient  \n0       127497.545577  \n1       161637.178377  \n2       167607.516930  \n3       173198.474757  \n4       192411.766848  \n\n[5 rows x 268 columns]",
      "text/html": "<div>\n<style scoped>\n    .dataframe tbody tr th:only-of-type {\n        vertical-align: middle;\n    }\n\n    .dataframe tbody tr th {\n        vertical-align: top;\n    }\n\n    .dataframe thead th {\n        text-align: right;\n    }\n</style>\n<table border=\"1\" class=\"dataframe\">\n  <thead>\n    <tr style=\"text-align: right;\">\n      <th></th>\n      <th>MSSubClass</th>\n      <th>LotFrontage</th>\n      <th>LotArea</th>\n      <th>OverallQual</th>\n      <th>OverallCond</th>\n      <th>YearBuilt</th>\n      <th>YearRemodAdd</th>\n      <th>MasVnrArea</th>\n      <th>BsmtFinSF1</th>\n      <th>BsmtFinSF2</th>\n      <th>...</th>\n      <th>GarageQual_Ex</th>\n      <th>Heating_Floor</th>\n      <th>Heating_OthW</th>\n      <th>HouseStyle_2.5Fin</th>\n      <th>RoofMatl_ClyTile</th>\n      <th>RoofMatl_Membran</th>\n      <th>RoofMatl_Metal</th>\n      <th>RoofMatl_Roll</th>\n      <th>SalePricePredicted</th>\n      <th>SalePrice_Gradient</th>\n    </tr>\n  </thead>\n  <tbody>\n    <tr>\n      <th>0</th>\n      <td>20</td>\n      <td>80.0</td>\n      <td>11622</td>\n      <td>5</td>\n      <td>6</td>\n      <td>1961</td>\n      <td>1961</td>\n      <td>0.0</td>\n      <td>468.0</td>\n      <td>144.0</td>\n      <td>...</td>\n      <td>0</td>\n      <td>0</td>\n      <td>0</td>\n      <td>0</td>\n      <td>0</td>\n      <td>0</td>\n      <td>0</td>\n      <td>0</td>\n      <td>127497.545577</td>\n      <td>127497.545577</td>\n    </tr>\n    <tr>\n      <th>1</th>\n      <td>20</td>\n      <td>81.0</td>\n      <td>14267</td>\n      <td>6</td>\n      <td>6</td>\n      <td>1958</td>\n      <td>1958</td>\n      <td>108.0</td>\n      <td>923.0</td>\n      <td>0.0</td>\n      <td>...</td>\n      <td>0</td>\n      <td>0</td>\n      <td>0</td>\n      <td>0</td>\n      <td>0</td>\n      <td>0</td>\n      <td>0</td>\n      <td>0</td>\n      <td>161637.178377</td>\n      <td>161637.178377</td>\n    </tr>\n    <tr>\n      <th>2</th>\n      <td>60</td>\n      <td>74.0</td>\n      <td>13830</td>\n      <td>5</td>\n      <td>5</td>\n      <td>1997</td>\n      <td>1998</td>\n      <td>0.0</td>\n      <td>791.0</td>\n      <td>0.0</td>\n      <td>...</td>\n      <td>0</td>\n      <td>0</td>\n      <td>0</td>\n      <td>0</td>\n      <td>0</td>\n      <td>0</td>\n      <td>0</td>\n      <td>0</td>\n      <td>167607.516930</td>\n      <td>167607.516930</td>\n    </tr>\n    <tr>\n      <th>3</th>\n      <td>60</td>\n      <td>78.0</td>\n      <td>9978</td>\n      <td>6</td>\n      <td>6</td>\n      <td>1998</td>\n      <td>1998</td>\n      <td>20.0</td>\n      <td>602.0</td>\n      <td>0.0</td>\n      <td>...</td>\n      <td>0</td>\n      <td>0</td>\n      <td>0</td>\n      <td>0</td>\n      <td>0</td>\n      <td>0</td>\n      <td>0</td>\n      <td>0</td>\n      <td>173198.474757</td>\n      <td>173198.474757</td>\n    </tr>\n    <tr>\n      <th>4</th>\n      <td>120</td>\n      <td>43.0</td>\n      <td>5005</td>\n      <td>8</td>\n      <td>5</td>\n      <td>1992</td>\n      <td>1992</td>\n      <td>0.0</td>\n      <td>263.0</td>\n      <td>0.0</td>\n      <td>...</td>\n      <td>0</td>\n      <td>0</td>\n      <td>0</td>\n      <td>0</td>\n      <td>0</td>\n      <td>0</td>\n      <td>0</td>\n      <td>0</td>\n      <td>192411.766848</td>\n      <td>192411.766848</td>\n    </tr>\n  </tbody>\n</table>\n<p>5 rows × 268 columns</p>\n</div>"
     },
     "metadata": {},
     "execution_count": 164
    }
   ],
   "source": [
    "df_test.head()"
   ]
  },
  {
   "cell_type": "markdown",
   "metadata": {},
   "source": [
    "Using AdaBoost"
   ]
  },
  {
   "cell_type": "code",
   "execution_count": 185,
   "metadata": {},
   "outputs": [],
   "source": [
    "from sklearn.ensemble import AdaBoostRegressor"
   ]
  },
  {
   "cell_type": "code",
   "execution_count": 186,
   "metadata": {},
   "outputs": [],
   "source": [
    "ada=AdaBoostRegressor()"
   ]
  },
  {
   "cell_type": "code",
   "execution_count": 187,
   "metadata": {},
   "outputs": [
    {
     "output_type": "execute_result",
     "data": {
      "text/plain": "AdaBoostRegressor()"
     },
     "metadata": {},
     "execution_count": 187
    }
   ],
   "source": [
    "ada.fit(x_train,y_train)"
   ]
  },
  {
   "cell_type": "code",
   "execution_count": 188,
   "metadata": {},
   "outputs": [],
   "source": [
    "y_pred_ada=ada.predict(x_test)"
   ]
  },
  {
   "cell_type": "code",
   "execution_count": 189,
   "metadata": {},
   "outputs": [],
   "source": [
    "df_test['SalePrice_AdaBoost']=y_pred_ada"
   ]
  },
  {
   "cell_type": "code",
   "execution_count": 190,
   "metadata": {},
   "outputs": [
    {
     "output_type": "execute_result",
     "data": {
      "text/plain": "   MSSubClass  LotFrontage  LotArea  OverallQual  OverallCond  YearBuilt  \\\n0          20         80.0    11622            5            6       1961   \n1          20         81.0    14267            6            6       1958   \n2          60         74.0    13830            5            5       1997   \n3          60         78.0     9978            6            6       1998   \n4         120         43.0     5005            8            5       1992   \n\n   YearRemodAdd  MasVnrArea  BsmtFinSF1  BsmtFinSF2  ...  Exterior2nd_Other  \\\n0          1961         0.0       468.0       144.0  ...                  0   \n1          1958       108.0       923.0         0.0  ...                  0   \n2          1998         0.0       791.0         0.0  ...                  0   \n3          1998        20.0       602.0         0.0  ...                  0   \n4          1992         0.0       263.0         0.0  ...                  0   \n\n   GarageQual_Ex  Heating_Floor  Heating_OthW  HouseStyle_2.5Fin  \\\n0              0              0             0                  0   \n1              0              0             0                  0   \n2              0              0             0                  0   \n3              0              0             0                  0   \n4              0              0             0                  0   \n\n   RoofMatl_ClyTile  RoofMatl_Membran  RoofMatl_Metal  RoofMatl_Roll  \\\n0                 0                 0               0              0   \n1                 0                 0               0              0   \n2                 0                 0               0              0   \n3                 0                 0               0              0   \n4                 0                 0               0              0   \n\n   SalePrice_AdaBoost  \n0       123832.638655  \n1       133014.267647  \n2       166361.710345  \n3       169901.233146  \n4       198747.568627  \n\n[5 rows x 267 columns]",
      "text/html": "<div>\n<style scoped>\n    .dataframe tbody tr th:only-of-type {\n        vertical-align: middle;\n    }\n\n    .dataframe tbody tr th {\n        vertical-align: top;\n    }\n\n    .dataframe thead th {\n        text-align: right;\n    }\n</style>\n<table border=\"1\" class=\"dataframe\">\n  <thead>\n    <tr style=\"text-align: right;\">\n      <th></th>\n      <th>MSSubClass</th>\n      <th>LotFrontage</th>\n      <th>LotArea</th>\n      <th>OverallQual</th>\n      <th>OverallCond</th>\n      <th>YearBuilt</th>\n      <th>YearRemodAdd</th>\n      <th>MasVnrArea</th>\n      <th>BsmtFinSF1</th>\n      <th>BsmtFinSF2</th>\n      <th>...</th>\n      <th>Exterior2nd_Other</th>\n      <th>GarageQual_Ex</th>\n      <th>Heating_Floor</th>\n      <th>Heating_OthW</th>\n      <th>HouseStyle_2.5Fin</th>\n      <th>RoofMatl_ClyTile</th>\n      <th>RoofMatl_Membran</th>\n      <th>RoofMatl_Metal</th>\n      <th>RoofMatl_Roll</th>\n      <th>SalePrice_AdaBoost</th>\n    </tr>\n  </thead>\n  <tbody>\n    <tr>\n      <th>0</th>\n      <td>20</td>\n      <td>80.0</td>\n      <td>11622</td>\n      <td>5</td>\n      <td>6</td>\n      <td>1961</td>\n      <td>1961</td>\n      <td>0.0</td>\n      <td>468.0</td>\n      <td>144.0</td>\n      <td>...</td>\n      <td>0</td>\n      <td>0</td>\n      <td>0</td>\n      <td>0</td>\n      <td>0</td>\n      <td>0</td>\n      <td>0</td>\n      <td>0</td>\n      <td>0</td>\n      <td>123832.638655</td>\n    </tr>\n    <tr>\n      <th>1</th>\n      <td>20</td>\n      <td>81.0</td>\n      <td>14267</td>\n      <td>6</td>\n      <td>6</td>\n      <td>1958</td>\n      <td>1958</td>\n      <td>108.0</td>\n      <td>923.0</td>\n      <td>0.0</td>\n      <td>...</td>\n      <td>0</td>\n      <td>0</td>\n      <td>0</td>\n      <td>0</td>\n      <td>0</td>\n      <td>0</td>\n      <td>0</td>\n      <td>0</td>\n      <td>0</td>\n      <td>133014.267647</td>\n    </tr>\n    <tr>\n      <th>2</th>\n      <td>60</td>\n      <td>74.0</td>\n      <td>13830</td>\n      <td>5</td>\n      <td>5</td>\n      <td>1997</td>\n      <td>1998</td>\n      <td>0.0</td>\n      <td>791.0</td>\n      <td>0.0</td>\n      <td>...</td>\n      <td>0</td>\n      <td>0</td>\n      <td>0</td>\n      <td>0</td>\n      <td>0</td>\n      <td>0</td>\n      <td>0</td>\n      <td>0</td>\n      <td>0</td>\n      <td>166361.710345</td>\n    </tr>\n    <tr>\n      <th>3</th>\n      <td>60</td>\n      <td>78.0</td>\n      <td>9978</td>\n      <td>6</td>\n      <td>6</td>\n      <td>1998</td>\n      <td>1998</td>\n      <td>20.0</td>\n      <td>602.0</td>\n      <td>0.0</td>\n      <td>...</td>\n      <td>0</td>\n      <td>0</td>\n      <td>0</td>\n      <td>0</td>\n      <td>0</td>\n      <td>0</td>\n      <td>0</td>\n      <td>0</td>\n      <td>0</td>\n      <td>169901.233146</td>\n    </tr>\n    <tr>\n      <th>4</th>\n      <td>120</td>\n      <td>43.0</td>\n      <td>5005</td>\n      <td>8</td>\n      <td>5</td>\n      <td>1992</td>\n      <td>1992</td>\n      <td>0.0</td>\n      <td>263.0</td>\n      <td>0.0</td>\n      <td>...</td>\n      <td>0</td>\n      <td>0</td>\n      <td>0</td>\n      <td>0</td>\n      <td>0</td>\n      <td>0</td>\n      <td>0</td>\n      <td>0</td>\n      <td>0</td>\n      <td>198747.568627</td>\n    </tr>\n  </tbody>\n</table>\n<p>5 rows × 267 columns</p>\n</div>"
     },
     "metadata": {},
     "execution_count": 190
    }
   ],
   "source": [
    "df_test.head()"
   ]
  }
 ],
 "metadata": {
  "language_info": {
   "codemirror_mode": {
    "name": "ipython",
    "version": 3
   },
   "file_extension": ".py",
   "mimetype": "text/x-python",
   "name": "python",
   "nbconvert_exporter": "python",
   "pygments_lexer": "ipython3",
   "version": 3
  },
  "orig_nbformat": 2,
  "kernelspec": {
   "name": "python_defaultSpec_1594166591837",
   "display_name": "Python 3.8.3 32-bit"
  }
 },
 "nbformat": 4,
 "nbformat_minor": 2
}